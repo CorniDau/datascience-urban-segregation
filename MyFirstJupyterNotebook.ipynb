{
 "cells": [
  {
   "cell_type": "markdown",
   "metadata": {},
   "source": [
    "# Einführung\n",
    "Dies ist das erste Jupyter Notebook für den Data-Science-Kurs. Das schöne daran ist, dass man Text schreiben kann wie in einem wissenschaftlichen Bericht, aber auch gleich den Python-Code direkt einbetten.\n",
    "# Code\n",
    "Das folgende ist ein einfaches Beispiel für den Python code:"
   ]
  },
  {
   "cell_type": "code",
   "execution_count": 26,
   "metadata": {},
   "outputs": [
    {
     "name": "stdout",
     "output_type": "stream",
     "text": [
      "Das Ergebnis der Addition ist: 5.5\n",
      "Das Ergebnis der Subtraktion ist: 1.2999999999999998\n"
     ]
    }
   ],
   "source": [
    "a = 3.4\n",
    "b = 2.1\n",
    "ergebnis1 = \"Das Ergebnis der Addition ist: \"\n",
    "ergebnis2 = \"Das Ergebnis der Subtraktion ist: \"\n",
    "print(ergebnis1+str(a+b))\n",
    "print(ergebnis2+str(a-b))"
   ]
  },
  {
   "cell_type": "markdown",
   "metadata": {},
   "source": [
    "Wenn man Shift+Enter drückt, wird der Code ausgeführt und man erhät das Ergebnis."
   ]
  },
  {
   "cell_type": "code",
   "execution_count": 28,
   "metadata": {},
   "outputs": [
    {
     "name": "stdout",
     "output_type": "stream",
     "text": [
      "3.4\n",
      "2.1\n",
      "2.1\n"
     ]
    }
   ],
   "source": [
    "print(a)\n",
    "print(b)\n",
    "a = b\n",
    "print(a)"
   ]
  },
  {
   "cell_type": "code",
   "execution_count": 36,
   "metadata": {},
   "outputs": [
    {
     "name": "stdout",
     "output_type": "stream",
     "text": [
      "[6, 0, 9, 7, 2, 33, 5, 15, 5, 70, 20, 50, 44, 32]\n",
      "[6, 0, 9, 7, 2, 33, 5, 15, 5, 70, 20, 50, 44, 32, 3]\n",
      "[6, 0, 9, 7, 2, 33, 5, 15, 5, 70, 20, 50, 44, 32, 3]\n",
      "[6, 0, 9, 7, 2, 33, 5, 15, 5, 70, 20, 50, 44, 32, 3]\n",
      "[6, 0, 9, 7, 2, 33, 5, 15, 5, 70, 20, 50, 44, 32, 3, 25]\n",
      "[6, 0, 9, 7, 2, 33, 5, 15, 5, 70, 20, 50, 44, 32, 3]\n"
     ]
    }
   ],
   "source": [
    "geldverteilung = [6, 0, 9, 7, 2, 33, 5, 15, 5, 70, 20, 50, 44, 32]\n",
    "print(geldverteilung)\n",
    "geldverteilung.append(3)\n",
    "print(geldverteilung)\n",
    "\n",
    "geldverteilung_neu = geldverteilung\n",
    "print(geldverteilung_neu)\n",
    "\n",
    "geldverteilung_wirklichneu = list(geldverteilung)\n",
    "print(geldverteilung_wirklichneu)\n",
    "\n",
    "geldverteilung_wirklichneu.append(25)\n",
    "print(geldverteilung_wirklichneu)\n",
    "\n",
    "print(geldverteilung)"
   ]
  },
  {
   "cell_type": "code",
   "execution_count": 38,
   "metadata": {},
   "outputs": [
    {
     "name": "stdout",
     "output_type": "stream",
     "text": [
      "20.066666666666666\n"
     ]
    }
   ],
   "source": [
    "summe = sum(geldverteilung) #hier berechne ich als Zwischenschritt die Summe\n",
    "anzahl = len(geldverteilung) #auch die zahl der Personen ist wichtig für den Durchschnitt\n",
    "durchschnitt = summe/anzahl #\n",
    "print(durchschnitt)"
   ]
  },
  {
   "cell_type": "markdown",
   "metadata": {},
   "source": [
    "# Diskussion\n",
    "Sind 2 und 2 wirklich immer 4? Diese spannende Frage ist nicht so trivial, wie sie scheint, und wird von Muller et al. (2010) ausführlich erörtert.\n",
    "\n",
    "# Literaturangaben\n",
    "Muller, J.-M., Brisebarre, N., de Dinechin, F., Jeannerod, C.-P., Lefèvre, V., Melquiond, G., Revol, N., Stehlé, D., Torres, S. (2010). Handbook of floating-point arithmetic. Heidelberg: Springer Nature."
   ]
  },
  {
   "cell_type": "markdown",
   "metadata": {
    "collapsed": true
   },
   "source": [
    "# "
   ]
  }
 ],
 "metadata": {
  "kernelspec": {
   "display_name": "Python 3",
   "language": "python",
   "name": "python3"
  },
  "language_info": {
   "codemirror_mode": {
    "name": "ipython",
    "version": 3
   },
   "file_extension": ".py",
   "mimetype": "text/x-python",
   "name": "python",
   "nbconvert_exporter": "python",
   "pygments_lexer": "ipython3",
   "version": "3.6.1"
  }
 },
 "nbformat": 4,
 "nbformat_minor": 2
}
