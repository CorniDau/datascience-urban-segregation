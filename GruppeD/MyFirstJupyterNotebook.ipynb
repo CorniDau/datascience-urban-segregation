{
 "cells": [
  {
   "cell_type": "markdown",
   "metadata": {},
   "source": [
    "# Einführung\n",
    "Dies ist das erste Jupyter Notebook für den Data-Science-Kurs. Das schöne daran ist, dass man Text schreiben kann wie in einem wissenschaftlichen Bericht, aber auch gleich den Python-Code direkt einbetten.\n",
    "# Code\n",
    "Das folgende ist ein einfaches Beispiel für den Python code:"
   ]
  },
  {
   "cell_type": "code",
   "execution_count": 11,
   "metadata": {},
   "outputs": [
    {
     "name": "stdout",
     "output_type": "stream",
     "text": [
      "5.5\n"
     ]
    }
   ],
   "source": [
    "a = 3.4\n",
    "b = 2.1\n",
    "\n",
    "print(a+b)\n"
   ]
  },
  {
   "cell_type": "code",
   "execution_count": 4,
   "metadata": {},
   "outputs": [
    {
     "name": "stdout",
     "output_type": "stream",
     "text": [
      "    Unnamed: 0  EW_Gesamt  EW_ unter 30_J Gesamtzahl  EW 30-60_J Gesamtzahl  \\\n",
      "0         2007     192121                      49052                  45602   \n",
      "1         2008     191959                      49004                  45549   \n",
      "2         2009     192241                      49177                  45515   \n",
      "3         2010     193112                      49393                  45524   \n",
      "4         2011     194109                      49623                  45862   \n",
      "5         2012     195422                      49521                  46600   \n",
      "6         2013     196758                      66270                  51125   \n",
      "7         2014     197092                      66596                  80572   \n",
      "8         2015     200507                      68790                  81453   \n",
      "9         2016     201907                      69862                  81458   \n",
      "10        2017     204021                      70873                  82160   \n",
      "\n",
      "    EW_über 60_J Gesamtzahl  Haushalte insgesamt  1-Prs.haushalte   \\\n",
      "0                     42072               102003             49692   \n",
      "1                     42397               102384             50656   \n",
      "2                     42510               102867             50467   \n",
      "3                     42466               103884             51726   \n",
      "4                     42588               102343             50814   \n",
      "5                     42695               103825             52210   \n",
      "6                     49662               105889             54076   \n",
      "7                     49924               106459             54653   \n",
      "8                     50264               108082             56145   \n",
      "9                     50587               108913             56541   \n",
      "10                    50988               109533             56669   \n",
      "\n",
      "    1-Prs.haushalt unter 30_J  1-Prs.haushalt 30-60_J  \\\n",
      "0                       11660                   21157   \n",
      "1                       12451                   22425   \n",
      "2                       12355                   21226   \n",
      "3                       12782                   21735   \n",
      "4                       12782                   22026   \n",
      "5                       13238                   22628   \n",
      "6                       14165                   23223   \n",
      "7                       14341                   23392   \n",
      "8                       14918                   24173   \n",
      "9                       15110                   23939   \n",
      "10                      14920                   23991   \n",
      "\n",
      "    1-Prs.haushalt über 60_J  \n",
      "0                      16875  \n",
      "1                      15780  \n",
      "2                      16886  \n",
      "3                      17209  \n",
      "4                      16006  \n",
      "5                      16344  \n",
      "6                      16688  \n",
      "7                      16920  \n",
      "8                      17054  \n",
      "9                      17492  \n",
      "10                     17758  \n"
     ]
    }
   ],
   "source": [
    "import pandas as pd\n",
    "kassel = pd.read_csv('PythonTabelle_02_csv.csv', encoding=\"latin1\")\n",
    "print(kassel)"
   ]
  },
  {
   "cell_type": "markdown",
   "metadata": {},
   "source": [
    "Wenn man Shift+Enter drückt, wird der Code ausgeführt und man erhät das Ergebnis."
   ]
  },
  {
   "cell_type": "markdown",
   "metadata": {},
   "source": [
    "# Diskussion\n",
    "Sind 2 und 2 wirklich immer 4? Diese spannende Frage ist nicht so trivial, wie sie scheint, und wird von Muller et al. (2010) ausführlich erörtert.\n",
    "\n",
    "# Literaturangaben\n",
    "Muller, J.-M., Brisebarre, N., de Dinechin, F., Jeannerod, C.-P., Lefèvre, V., Melquiond, G., Revol, N., Stehlé, D., Torres, S. (2010). Handbook of floating-point arithmetic. Heidelberg: Springer Nature."
   ]
  },
  {
   "cell_type": "code",
   "execution_count": null,
   "metadata": {},
   "outputs": [],
   "source": []
  },
  {
   "cell_type": "code",
   "execution_count": null,
   "metadata": {},
   "outputs": [],
   "source": []
  },
  {
   "cell_type": "code",
   "execution_count": null,
   "metadata": {},
   "outputs": [],
   "source": []
  }
 ],
 "metadata": {
  "kernelspec": {
   "display_name": "Python 3",
   "language": "python",
   "name": "python3"
  },
  "language_info": {
   "codemirror_mode": {
    "name": "ipython",
    "version": 3
   },
   "file_extension": ".py",
   "mimetype": "text/x-python",
   "name": "python",
   "nbconvert_exporter": "python",
   "pygments_lexer": "ipython3",
   "version": "3.7.0"
  }
 },
 "nbformat": 4,
 "nbformat_minor": 2
}
