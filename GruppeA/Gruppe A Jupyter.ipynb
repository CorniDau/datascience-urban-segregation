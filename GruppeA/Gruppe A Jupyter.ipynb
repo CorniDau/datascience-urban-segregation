{
 "cells": [
  {
   "cell_type": "markdown",
   "metadata": {},
   "source": [
    "# Gruppe A:\n",
    "\n",
    "#### “Hat sich im Zuge des Bevölkerungsanstieges der Stadt Magdeburg seit 2004 bis 2017 die Zusammensetzung der Bevölkerung verändert?”\n",
    "\n",
    "###### Unterfragen: \n",
    "1. Wie setzt(e) sich die Bevölkerung im Jahr 2004 gegenüber der Bevölkerung im Jahr 2017 ethnisch und demografisch zusammen?\n",
    "2. Wird der Bevölkerungszuwachs bis 2017 von einer oder mehreren bestimmten Bevölkerungsgruppen hauptsächlich getragen?\n",
    "3. Hat sich die ethnische und demografische Zusammensetzung der Bevölkerung in den Stadtteilen verändert?\n",
    "4. Hat die starke Einwanderung von Geflüchteten nach Deutschland 2014/15 zu einem vermehrten Bevölkerungsanstieg bei der Ausländischen Bevölkerung in Magdeburg geführt?\n",
    "\n",
    "###### weitere Unterfragen: \n",
    "\n",
    "1. Hängt das Bevölkerungswachstum mit einer guten wirtschaftlichen Entwicklung der Stadt zusammen?\n",
    "\n",
    "        Relevante Quellen: \n",
    "        Anzahl IHK-Firmen (ab 2007) \n",
    "        Einzelhandel in Magdeburg (ab 2007) \n",
    "        Handwerksbetriebe in Magdeburg (ab 2007) \n",
    "        Gewerbeanmeldungen (ab 2010)\n",
    "        Gewerbeabmeldungen (ab 2010) \n",
    "        Arbeitslose (ab 2005) \n",
    "        Sozialversicherungspflichtige (ab 2005) \n",
    "\n",
    "2. Wie haben sich die eingewanderten Menschen in den Stadtteilen verteilt? Gibt es unterschiedliche Präferenzen bei der einheimischen und ausländischen Bevölkerung?\n",
    "\n",
    "3. Führt ein steigender Anteil der Ausländischen Bevölkerung in den (3?) Stadtteilen mit dem höchsten Ausländeranteil zu sinkenden Zuzügen der einheimischen Bevölkerung?\n",
    "\n",
    "        Relevante Quellen: \n",
    "        Einwohner  \n",
    "        Ausländische Bevölkerung\n",
    "        Zuzüge\n",
    "        Wegzüge\n",
    "\n",
    "4. Hat der Zuzug von Geflüchteten zu einer messbaren Erhöhung der Kriminalitätsrate geführt?\n",
    "\n",
    "        Relevante Quellen: \n",
    "        Polizeiliche Kriminalstatistik (PKS) (ab 1953, Rohdaten ab 2012) \n",
    "        Quelle: https://www.bka.de/DE/AktuelleInformationen/StatistikenLagebilder/PolizeilicheKriminalstatistik/pks_node.html \n",
    "\n"
   ]
  },
  {
   "cell_type": "markdown",
   "metadata": {},
   "source": [
    "# Inhaltsverzeichnis\n",
    "\n",
    "1. Titel\n",
    "2. Zusammenfassung/Abstrakt mit Stichwörtern?\n",
    "3. Inhaltsverzeichnis/Verzeichnisse\n",
    "4. Einführung, Motivation + Ziel, Eingrenzung, Fragestellung \n",
    "5. State of the Art/Forschungsstand (Theorie zur Methode und Data Science) \n",
    "6. Methode, Datenauswahl \n",
    "7. Ergebnis \n",
    "8. Analyse + Interpretation \n",
    "9. Fazit + Ausblick \n",
    "10. Literatur- und Quellenverzeichnis\n",
    "11. Abbildungsverzeichnis\n",
    "12. Datenquellenverzeichnis\n",
    "13. Eidesstattliche Erklärung\n",
    "14. Anhang\n",
    "15. I FDM-Plan rdmo.fh-potsdam.de\n",
    "16. II Data Policy?\n",
    "17. III Daten - aufbereiten & strukturieren \n",
    "18. IV Technische Dokumentation (Jupyter) "
   ]
  },
  {
   "cell_type": "markdown",
   "metadata": {},
   "source": [
    "## Grundlage: \n",
    " 2017: 241.769 (+6,69% seit 2004; +5,29% seit 2007 ) <br>\n",
    " 2007: 229.631 <br>\n",
    " 2004: 226.610 <br>\n",
    "\n",
    "2004 hatte Magdeburg mit 226.610 Einwohnern den geringsten Einwohnerwert seit der Wiedervereinigung erreicht (Anm. noch mit Quelle belegen, Henning). Seitdem ist die Bevölkerungszahl wieder kontinuierlich gestiegen. 2017 lebten mit 241.769 Einwohnern 6,69% mehr Menschen in der Stadt als noch 2004. Die 5. Regionalisierte Bevölkerungsprognose (RBP) für Sachsen-Anhalt ging 2008 noch von einer Stadtbevölkerung von 232.154 Einwohnern im Jahr 2017 aus. Diese Prognose ging mit einem stetigen Bevölkerungsrückgang in den darauffolgenden Jahre einher. (Quelle: https://www.destatis.de/GPStatistik/servlets/MCRFileNodeServlet/STHeft_derivate_00000013/6A111_2008_2025.pdf, S. 25). Der 2006 von der Bertelsmann Stiftung publizierte “Wegweiser Demographischer Wandel 2020” ging sogar noch einen Schritt weiter und prognostizierte für das Jahr 2020 einen Bevölkerungsrückgang um 11,2%, verglichen mit dem Stichjahr 2003. Dies entspricht, bei einer Bevölkerung von ursprünglich 227.129 Menschen (Stand: 2003), insgesamt 201.691 Einwohner. (Quelle: http://shrinking.ums-riate.fr/Ressources/Chap_07/SCH_06.pdf, S. 43)\n",
    "\n",
    "#### Zum Vergleich:\n",
    "Gesamtwachstum der Bevölkerung von Deutschland (Ende 2016 auf Ende 2017): +0,3 %\n",
    "Gesamtwachstum der Bevölkerung im Land Sachsen-Anhalt (Ende 2016 auf Ende 2017): -0,6 %\n",
    "(https://www.destatis.de/DE/PresseService/Presse/Pressemitteilungen/2018/09/PD18_347_12411.html)\n",
    "Wachstum der Bevölkerung in Magdeburg (Ende 2016 auf Ende 2017):  ca. 0.26% → entspricht fast dem Bundesdurchschnitt und nicht dem Trend auf Landesebene\n",
    "(Quelle: https://www.magdeburg.de/extern/statistik/stadtteilkatalog/atlas.html)\n",
    "\n"
   ]
  },
  {
   "cell_type": "code",
   "execution_count": null,
   "metadata": {},
   "outputs": [],
   "source": []
  }
 ],
 "metadata": {
  "kernelspec": {
   "display_name": "Python 3",
   "language": "python",
   "name": "python3"
  },
  "language_info": {
   "codemirror_mode": {
    "name": "ipython",
    "version": 3
   },
   "file_extension": ".py",
   "mimetype": "text/x-python",
   "name": "python",
   "nbconvert_exporter": "python",
   "pygments_lexer": "ipython3",
   "version": "3.7.0"
  }
 },
 "nbformat": 4,
 "nbformat_minor": 2
}
