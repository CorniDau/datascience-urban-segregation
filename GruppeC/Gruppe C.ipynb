{
 "cells": [
  {
   "cell_type": "markdown",
   "metadata": {},
   "source": [
    "#  Demographie-  und Migrationsdynamiken auf Bezirksebene\n",
    "### Vergleichende Analyse von Kreuzberg und Wedding im Zeitverlauf (2011-2017)"
   ]
  },
  {
   "cell_type": "markdown",
   "metadata": {},
   "source": [
    "# Einleitung\n",
    "\n",
    "Während der Teilung Berlins unterlagen die Ortsteile Kreuzberg und Wedding   einer ähnlichen sozio-demographischen und städtebaulichen  Entwicklung ([spezifizieren:Kahlschlagsanierung, behutsame Stadterneuerung, “Instandbesetzungen”, Migrationspolitik]).Durch verschiedene politische, wirtschaftliche und städtebauliche Interventionen sowie kulturelle und soziale Prozesse, haben sich die Ortsteile nach der Wende jedoch unterschiedlich entwickelt: Während (Friedrichshain-)Kreuzberg sich schon seit einigen Jahren [spezifizieren] als beliebtes Wohnumfeld für  Kreative, Zugezogene und Studierende etabliert hat, wurde Wedding lange Zeit als \"abgehängter\" Ortsteil wahrgenommen, welcher durch hohe Arbeitslosigkeit und Kriminalität im Bewusstsein der Berlinerinnen und Berliner stand (Holm, 2016: S.210; von Einem, 2016: S. 54,). \n",
    "\n",
    "Ziel dieser Arbeit ist es einerseits, die demographische und ethnische Entwicklung zwischen 2011 und 2017 der beiden Stadtteile aufzuzeigen [und andererseits, Faktoren identifizieren, die auf Bezirksebene zu der beschriebenen Disparität geführt haben.]"
   ]
  },
  {
   "cell_type": "markdown",
   "metadata": {},
   "source": [
    "# Methode\n",
    "\n",
    "Zunächst wird durch deskriptive Methoden die Annahme überprüft, wonach die demographische und ethnische Zusammensetzung der beiden Bezirke sich tatsächlich stark unterscheidet wie in der Literatur rezipiert  (Holm, von Einem, 2016 ....). [<<-- umformulieren]. \n",
    "\n",
    "\n",
    "+++Darüber hinaus könnten wir noch darüber nachdenken den SI hinsichtlich ethnischer und demographischer Segregation zu berechnen und/oder mit Hilfe einer linearen Regression versuchen Faktoren zu identifizieren, siehe --> MSSD https://en.wikipedia.org/wiki/Comparative_politics).\n"
   ]
  },
  {
   "cell_type": "markdown",
   "metadata": {},
   "source": [
    "# Ergebnis"
   ]
  },
  {
   "cell_type": "markdown",
   "metadata": {},
   "source": [
    "# Analyse"
   ]
  },
  {
   "cell_type": "markdown",
   "metadata": {},
   "source": [
    "# Interpretation"
   ]
  },
  {
   "cell_type": "markdown",
   "metadata": {},
   "source": [
    "# Fazit"
   ]
  },
  {
   "cell_type": "markdown",
   "metadata": {},
   "source": [
    "# Verzeichnisse"
   ]
  },
  {
   "cell_type": "markdown",
   "metadata": {},
   "source": [
    "# Anhang\n",
    "\n",
    "von Einem, E. (2016). Mieten–Wohngeld–Kosten der Unterbringung. In Wohnen (pp. 41-69). Springer VS, Wiesbaden.\n",
    "Holm, A. (2016). Gentrification und das Ende der Berliner Mischung. In Wohnen (pp. 191-231). Springer VS, Wiesbaden."
   ]
  },
  {
   "cell_type": "code",
   "execution_count": null,
   "metadata": {},
   "outputs": [],
   "source": []
  }
 ],
 "metadata": {
  "kernelspec": {
   "display_name": "Python 3",
   "language": "python",
   "name": "python3"
  },
  "language_info": {
   "codemirror_mode": {
    "name": "ipython",
    "version": 3
   },
   "file_extension": ".py",
   "mimetype": "text/x-python",
   "name": "python",
   "nbconvert_exporter": "python",
   "pygments_lexer": "ipython3",
   "version": "3.7.0"
  }
 },
 "nbformat": 4,
 "nbformat_minor": 2
}
