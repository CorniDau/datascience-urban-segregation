{
 "cells": [
  {
   "cell_type": "markdown",
   "metadata": {},
   "source": [
    "# Einführung\n",
    "Dies ist das erste Jupyter Notebook für den Data-Science-Kurs. Das schöne daran ist, dass man Text schreiben kann wie in einem wissenschaftlichen Bericht, aber auch gleich den Python-Code direkt einbetten.\n",
    "# Code aus dem ersten Programmierworkshop am 2.11.\n",
    "Das folgende ist ein einfaches Beispiel für Python code:"
   ]
  },
  {
   "cell_type": "code",
   "execution_count": 1,
   "metadata": {},
   "outputs": [
    {
     "name": "stdout",
     "output_type": "stream",
     "text": [
      "Das Ergebnis der Addition ist: 5.5\n",
      "Das Ergebnis der Subtraktion ist: 1.2999999999999998\n"
     ]
    }
   ],
   "source": [
    "a = 3.4\n",
    "b = 2.1\n",
    "ergebnis1 = \"Das Ergebnis der Addition ist: \"\n",
    "ergebnis2 = \"Das Ergebnis der Subtraktion ist: \"\n",
    "print(ergebnis1+str(a+b))\n",
    "print(ergebnis2+str(a-b))"
   ]
  },
  {
   "cell_type": "markdown",
   "metadata": {},
   "source": [
    "Wenn man Shift+Enter drückt, wird der Code ausgeführt und man erhät das Ergebnis."
   ]
  },
  {
   "cell_type": "code",
   "execution_count": 2,
   "metadata": {},
   "outputs": [
    {
     "name": "stdout",
     "output_type": "stream",
     "text": [
      "3.4\n",
      "2.1\n",
      "2.1\n"
     ]
    }
   ],
   "source": [
    "print(a)\n",
    "print(b)\n",
    "a = b\n",
    "print(a)"
   ]
  },
  {
   "cell_type": "code",
   "execution_count": 3,
   "metadata": {},
   "outputs": [
    {
     "name": "stdout",
     "output_type": "stream",
     "text": [
      "[6, 0, 9, 7, 2, 33, 5, 15, 5, 70, 20, 50, 44, 32]\n",
      "[6, 0, 9, 7, 2, 33, 5, 15, 5, 70, 20, 50, 44, 32, 3]\n",
      "[6, 0, 9, 7, 2, 33, 5, 15, 5, 70, 20, 50, 44, 32, 3]\n",
      "[6, 0, 9, 7, 2, 33, 5, 15, 5, 70, 20, 50, 44, 32, 3]\n",
      "[6, 0, 9, 7, 2, 33, 5, 15, 5, 70, 20, 50, 44, 32, 3, 25]\n",
      "[6, 0, 9, 7, 2, 33, 5, 15, 5, 70, 20, 50, 44, 32, 3]\n"
     ]
    }
   ],
   "source": [
    "geldverteilung = [6, 0, 9, 7, 2, 33, 5, 15, 5, 70, 20, 50, 44, 32]\n",
    "print(geldverteilung)\n",
    "geldverteilung.append(3)\n",
    "print(geldverteilung)\n",
    "\n",
    "geldverteilung_neu = geldverteilung\n",
    "print(geldverteilung_neu)\n",
    "\n",
    "geldverteilung_wirklichneu = list(geldverteilung)\n",
    "print(geldverteilung_wirklichneu)\n",
    "\n",
    "geldverteilung_wirklichneu.append(25)\n",
    "print(geldverteilung_wirklichneu)\n",
    "\n",
    "print(geldverteilung)"
   ]
  },
  {
   "cell_type": "code",
   "execution_count": 4,
   "metadata": {},
   "outputs": [
    {
     "name": "stdout",
     "output_type": "stream",
     "text": [
      "20.066666666666666\n"
     ]
    }
   ],
   "source": [
    "summe = sum(geldverteilung) #hier berechne ich als Zwischenschritt die Summe\n",
    "anzahl = len(geldverteilung) #auch die zahl der Personen ist wichtig für den Durchschnitt\n",
    "durchschnitt = summe/anzahl #\n",
    "print(durchschnitt)"
   ]
  },
  {
   "cell_type": "markdown",
   "metadata": {},
   "source": [
    "# Code zweiter Workshop am 16.11.\n",
    "Leider wissen wir nicht mehr, wer wie viel Geld dabei hatte. Guter Datenschutz, aber schlechte Datenstruktur! Wir können das mit einer Liste von Listen beheben:"
   ]
  },
  {
   "cell_type": "code",
   "execution_count": 5,
   "metadata": {},
   "outputs": [
    {
     "ename": "NameError",
     "evalue": "name 'Tobias' is not defined",
     "output_type": "error",
     "traceback": [
      "\u001b[0;31m---------------------------------------------------------------------------\u001b[0m",
      "\u001b[0;31mNameError\u001b[0m                                 Traceback (most recent call last)",
      "\u001b[0;32m<ipython-input-5-0d98e4321664>\u001b[0m in \u001b[0;36m<module>\u001b[0;34m()\u001b[0m\n\u001b[0;32m----> 1\u001b[0;31m \u001b[0mgeldvt16Nov\u001b[0m \u001b[0;34m=\u001b[0m \u001b[0;34m[\u001b[0m\u001b[0;34m[\u001b[0m\u001b[0mTobias\u001b[0m\u001b[0;34m,\u001b[0m \u001b[0;36m15\u001b[0m\u001b[0;34m]\u001b[0m\u001b[0;34m,\u001b[0m \u001b[0;34m[\u001b[0m\u001b[0mHeike\u001b[0m\u001b[0;34m,\u001b[0m \u001b[0;36m12\u001b[0m\u001b[0;34m]\u001b[0m\u001b[0;34m,\u001b[0m \u001b[0;34m[\u001b[0m\u001b[0mName\u001b[0m\u001b[0;34m,\u001b[0m \u001b[0;36m0\u001b[0m\u001b[0;34m]\u001b[0m\u001b[0;34m]\u001b[0m \u001b[0;31m#so viel Bargeld haben die Kurstn. am 16. Nov dabei\u001b[0m\u001b[0;34m\u001b[0m\u001b[0m\n\u001b[0m\u001b[1;32m      2\u001b[0m \u001b[0mprint\u001b[0m\u001b[0;34m(\u001b[0m\u001b[0mgeldvt16Nov\u001b[0m\u001b[0;34m)\u001b[0m\u001b[0;34m\u001b[0m\u001b[0m\n",
      "\u001b[0;31mNameError\u001b[0m: name 'Tobias' is not defined"
     ]
    }
   ],
   "source": [
    "geldvt16Nov = [[Tobias, 15], [Heike, 12], [Name, 0]] #so viel Bargeld haben die Kurstn. am 16. Nov dabei\n",
    "print(geldvt16Nov)"
   ]
  },
  {
   "cell_type": "code",
   "execution_count": 6,
   "metadata": {},
   "outputs": [
    {
     "ename": "TypeError",
     "evalue": "unsupported operand type(s) for +: 'int' and 'list'",
     "output_type": "error",
     "traceback": [
      "\u001b[0;31m---------------------------------------------------------------------------\u001b[0m",
      "\u001b[0;31mTypeError\u001b[0m                                 Traceback (most recent call last)",
      "\u001b[0;32m<ipython-input-6-b13bfa998f7f>\u001b[0m in \u001b[0;36m<module>\u001b[0;34m()\u001b[0m\n\u001b[1;32m      2\u001b[0m \u001b[0mgeldvt16Nov_str\u001b[0m \u001b[0;34m=\u001b[0m \u001b[0;34m[\u001b[0m\u001b[0;34m[\u001b[0m\u001b[0;34m'Tobias'\u001b[0m\u001b[0;34m,\u001b[0m \u001b[0;36m15\u001b[0m\u001b[0;34m]\u001b[0m\u001b[0;34m,\u001b[0m \u001b[0;34m[\u001b[0m\u001b[0;34m'Heike'\u001b[0m\u001b[0;34m,\u001b[0m \u001b[0;36m12\u001b[0m\u001b[0;34m]\u001b[0m\u001b[0;34m]\u001b[0m \u001b[0;31m#strings brauchen ''\u001b[0m\u001b[0;34m\u001b[0m\u001b[0m\n\u001b[1;32m      3\u001b[0m \u001b[0;34m\u001b[0m\u001b[0m\n\u001b[0;32m----> 4\u001b[0;31m \u001b[0msumme\u001b[0m \u001b[0;34m=\u001b[0m \u001b[0msum\u001b[0m\u001b[0;34m(\u001b[0m\u001b[0mgeldvt16Nov_str\u001b[0m\u001b[0;34m)\u001b[0m \u001b[0;31m#hier berechne ich als Zwischenschritt die Summe\u001b[0m\u001b[0;34m\u001b[0m\u001b[0m\n\u001b[0m\u001b[1;32m      5\u001b[0m \u001b[0manzahl\u001b[0m \u001b[0;34m=\u001b[0m \u001b[0mlen\u001b[0m\u001b[0;34m(\u001b[0m\u001b[0mgeldvt16Nov_str\u001b[0m\u001b[0;34m)\u001b[0m \u001b[0;31m#auch die zahl der Personen ist wichtig für den Durchschnitt\u001b[0m\u001b[0;34m\u001b[0m\u001b[0m\n\u001b[1;32m      6\u001b[0m \u001b[0mdurchschnitt\u001b[0m \u001b[0;34m=\u001b[0m \u001b[0msumme\u001b[0m\u001b[0;34m/\u001b[0m\u001b[0manzahl\u001b[0m \u001b[0;31m#\u001b[0m\u001b[0;34m\u001b[0m\u001b[0m\n",
      "\u001b[0;31mTypeError\u001b[0m: unsupported operand type(s) for +: 'int' and 'list'"
     ]
    }
   ],
   "source": [
    "#nun versuchen wir mit dem Code vom letzten Mal, den Durchschnitt zu berechnen:\n",
    "geldvt16Nov_str = [['Tobias', 15], ['Heike', 12]] #strings brauchen ''\n",
    "\n",
    "summe = sum(geldvt16Nov_str) #hier berechne ich als Zwischenschritt die Summe\n",
    "anzahl = len(geldvt16Nov_str) #auch die zahl der Personen ist wichtig für den Durchschnitt\n",
    "durchschnitt = summe/anzahl #\n",
    "print(geldvt16Nov_str)\n"
   ]
  },
  {
   "cell_type": "code",
   "execution_count": 7,
   "metadata": {},
   "outputs": [
    {
     "name": "stdout",
     "output_type": "stream",
     "text": [
      "15\n",
      "[15, 12]\n",
      "13.5\n"
     ]
    }
   ],
   "source": [
    "#mhm, aus Listen kann man wohl keine Summe bilden. Wie kommen wir an die Summen?\n",
    "rechenliste = [] #erstmal eine Variable anlegen\n",
    "tobiasgeld = geldvt16Nov_str[0][1] #Dabei noch mal Indizes erkären, Start bei 0\n",
    "print(tobiasgeld)\n",
    "type(tobiasgeld)\n",
    "rechenliste.append(tobiasgeld)\n",
    "rechenliste.append(geldvt16Nov_str[1][1]) #man kann sich den Zwischenschritt auch sparen\n",
    "print(rechenliste)\n",
    "durchschnitt = sum(rechenliste)/len(rechenliste)\n",
    "print(durchschnitt)"
   ]
  },
  {
   "cell_type": "code",
   "execution_count": 7,
   "metadata": {},
   "outputs": [
    {
     "name": "stdout",
     "output_type": "stream",
     "text": [
      "15\n",
      "[15]\n",
      "12\n",
      "[15, 12]\n",
      "13.5\n"
     ]
    }
   ],
   "source": [
    "#so geht es, wird aber leicht ziemlich ätzend, wenn es ein großer Kurs ist. \n",
    "#wir müssen das automatisieren mit einem for-loop:\n",
    "rechenliste = []\n",
    "for kurstn in geldvt16Nov_str: #allgemein: for variable in sequence:\n",
    "    kurstngeld = kurstn[1] #einrücken ist wichtig\n",
    "    print(kurstngeld) #print-statements zwischendurch helfen zu verstehen, was gerade passiert\n",
    "    rechenliste.append(kurstngeld)\n",
    "    print(rechenliste)\n",
    "durchschnitt = sum(rechenliste)/len(rechenliste)\n",
    "print(durchschnitt)\n",
    "#und so geht es auch mit 100.000 Kurstn, ohne dass der Code länger wird."
   ]
  },
  {
   "cell_type": "markdown",
   "metadata": {},
   "source": [
    "## Einheit 2: Pandas Intro\n",
    "Besser geeignet ist Pandas (für Panel Data Analysis), Funktionalität ähnlich wie R."
   ]
  },
  {
   "cell_type": "code",
   "execution_count": 8,
   "metadata": {},
   "outputs": [
    {
     "name": "stdout",
     "output_type": "stream",
     "text": [
      "Tobias    15\n",
      "Heike     12\n",
      "dtype: int64\n",
      "12\n"
     ]
    }
   ],
   "source": [
    "import pandas as pd #kein generisches Python, muss importiert werden.\n",
    "\n",
    "geldvt16Nov_pd = pd.Series([15, 12], index=['Tobias', 'Heike']) #Series-Datentyp: Vektor\n",
    "print(geldvt16Nov_pd)\n",
    "print(geldvt16Nov_pd['Heike']) #über den Index kann direkt auf eine Zahl zugegriffen werden\n"
   ]
  },
  {
   "cell_type": "code",
   "execution_count": 9,
   "metadata": {},
   "outputs": [
    {
     "name": "stdout",
     "output_type": "stream",
     "text": [
      "0    15\n",
      "1    12\n",
      "dtype: int64\n"
     ]
    }
   ],
   "source": [
    "#Python: Datenintegration - Liste überführen in Pandas Objekt\n",
    "geldvt16Nov_pd_aut = pd.Series(rechenliste)\n",
    "print(geldvt16Nov_pd_aut) #man beachte den Default-Index!"
   ]
  },
  {
   "cell_type": "code",
   "execution_count": 10,
   "metadata": {},
   "outputs": [
    {
     "data": {
      "text/plain": [
       "13.5"
      ]
     },
     "execution_count": 10,
     "metadata": {},
     "output_type": "execute_result"
    }
   ],
   "source": [
    "#was das Ding alles kann: eingebaute Statistikfunktionen\n",
    "geldvt16Nov_pd.mean() #berechnet Durchschnitt und erspart uns den ganzen for-loop-Kram\n",
    "                      #sowie den \"Umweg\" über die sum- und len-Funktionen\n",
    "                      #Method vs Function: vgl. lst.append(argument)"
   ]
  },
  {
   "cell_type": "code",
   "execution_count": 11,
   "metadata": {},
   "outputs": [
    {
     "name": "stdout",
     "output_type": "stream",
     "text": [
      "Tobias    14\n",
      "Heike     12\n",
      "dtype: int64\n",
      "13.0\n"
     ]
    }
   ],
   "source": [
    "#aufgepasst, wie basale Funktionen hier definiert sind: Grundrechenarten\n",
    "\n",
    "geldausg = pd.Series([-1, 0], index=['Tobias', 'Heike'])\n",
    "geldvt_nachPause = geldvt16Nov_pd + geldausg\n",
    "print(geldvt_nachPause)\n",
    "print(geldvt_nachPause.mean())"
   ]
  },
  {
   "cell_type": "code",
   "execution_count": 12,
   "metadata": {},
   "outputs": [
    {
     "name": "stdout",
     "output_type": "stream",
     "text": [
      "[15, 12, -1, 0]\n"
     ]
    }
   ],
   "source": [
    "#lineare Algebra - Numpy - vergleich mit Addition von Listen\n",
    "#Sparsamkeit: durch Listen müsste man loopen, um elementweise zu addieren\n",
    "\n",
    "vorpause = [15, 12]\n",
    "ausgegeben = [-1, 0]\n",
    "print(vorpause+ausgegeben)\n"
   ]
  },
  {
   "cell_type": "code",
   "execution_count": 13,
   "metadata": {},
   "outputs": [
    {
     "name": "stdout",
     "output_type": "stream",
     "text": [
      "Tobias    15\n",
      "dtype: int64\n"
     ]
    }
   ],
   "source": [
    "#Filtern: Nur Datenpunkte mit überdurchschnittlichem Geld\n",
    "\n",
    "reicheTn = geldvt16Nov_pd[geldvt16Nov_pd > geldvt16Nov_pd.mean()]\n",
    "print(reicheTn)\n"
   ]
  },
  {
   "cell_type": "code",
   "execution_count": 14,
   "metadata": {},
   "outputs": [
    {
     "data": {
      "text/plain": [
       "Tobias     True\n",
       "Heike     False\n",
       "dtype: bool"
      ]
     },
     "execution_count": 14,
     "metadata": {},
     "output_type": "execute_result"
    }
   ],
   "source": [
    "#Boole'sche variable erklären\n",
    "geldvt16Nov_pd > geldvt16Nov_pd.mean()"
   ]
  },
  {
   "cell_type": "code",
   "execution_count": 15,
   "metadata": {},
   "outputs": [
    {
     "name": "stdout",
     "output_type": "stream",
     "text": [
      "True\n",
      "False\n",
      "True\n",
      "False\n"
     ]
    }
   ],
   "source": [
    "#Konventionen\n",
    "print(3 > 2) #größer als\n",
    "print(3 >= 4) #größer oder gleich \n",
    "print(3 == 3) #Gleichheit\n",
    "print(3 != 3) #Ungleichheit\n"
   ]
  },
  {
   "cell_type": "code",
   "execution_count": 16,
   "metadata": {},
   "outputs": [
    {
     "name": "stdout",
     "output_type": "stream",
     "text": [
      "False\n",
      "True\n"
     ]
    }
   ],
   "source": [
    "#wenn noch Zeit, truth tables erklären\n",
    "print(3 > 2 and 2 > 4) #spielen mit not (takes precedence)\n",
    "print(3 > 2 or 2 > 4)\n"
   ]
  },
  {
   "cell_type": "markdown",
   "metadata": {},
   "source": [
    "## Einheit 3 Pandas DataFrame\n",
    "= das Python-Äquivalent zum Spreadsheet"
   ]
  },
  {
   "cell_type": "code",
   "execution_count": 17,
   "metadata": {},
   "outputs": [
    {
     "name": "stdout",
     "output_type": "stream",
     "text": [
      "         0  1\n",
      "Tobias  15 -1\n",
      "Heike   12  0\n"
     ]
    }
   ],
   "source": [
    "#dies führt die beiden Pandas-Series-Objekte zu einem Spreadsheet zusammen\n",
    "alleDaten16Nov = pd.concat([geldvt16Nov_pd, geldausg], axis=1) #axis=1 bedeutet spaltenweise\n",
    "print(alleDaten16Nov)"
   ]
  },
  {
   "cell_type": "code",
   "execution_count": 19,
   "metadata": {},
   "outputs": [
    {
     "name": "stdout",
     "output_type": "stream",
     "text": [
      "        geldAnfang  ausgPause\n",
      "Tobias          15         -1\n",
      "Heike           12          0\n"
     ]
    }
   ],
   "source": [
    "alleDaten16Nov.columns = ['geldAnfang', 'ausgPause'] #Spaltenlabel benennen\n",
    "print(alleDaten16Nov)"
   ]
  },
  {
   "cell_type": "code",
   "execution_count": 20,
   "metadata": {},
   "outputs": [
    {
     "name": "stdout",
     "output_type": "stream",
     "text": [
      "Tobias    15\n",
      "Heike     12\n",
      "Name: geldAnfang, dtype: int64\n"
     ]
    }
   ],
   "source": [
    "#Zugriff auf eine Variable = Series extrahieren\n",
    "print(alleDaten16Nov['geldAnfang']) #bei [['geldAnfang']] behalt man einen DataFrame"
   ]
  },
  {
   "cell_type": "code",
   "execution_count": 21,
   "metadata": {},
   "outputs": [
    {
     "name": "stdout",
     "output_type": "stream",
     "text": [
      "15\n",
      "        geldAnfang  ausgPause\n",
      "Tobias          15         -1\n"
     ]
    }
   ],
   "source": [
    "#Zugriff auf Datenpunkte über labels:\n",
    "print(alleDaten16Nov.loc['Tobias','geldAnfang']) #i,j Matrixnotation erklären\n",
    "print(alleDaten16Nov.loc[['Tobias']]) #Zugriff auf eine Zeile"
   ]
  },
  {
   "cell_type": "code",
   "execution_count": 22,
   "metadata": {},
   "outputs": [
    {
     "name": "stdout",
     "output_type": "stream",
     "text": [
      "15\n",
      "        geldAnfang  ausgPause\n",
      "Tobias          15         -1\n"
     ]
    }
   ],
   "source": [
    "#Zugriff auf Datenpunkte über Indizes:\n",
    "print(alleDaten16Nov.iloc[0,0]) #i,j beginnt bei 0 zu zählen\n",
    "print(alleDaten16Nov[0:1]) #Zugriff auf eine Zeile"
   ]
  },
  {
   "cell_type": "code",
   "execution_count": 23,
   "metadata": {},
   "outputs": [
    {
     "name": "stdout",
     "output_type": "stream",
     "text": [
      "13.5\n"
     ]
    }
   ],
   "source": [
    "#Statistische Funktionen gehen hier auch wie bei Series-Objekt:\n",
    "durchschnGeld = alleDaten16Nov['geldAnfang'].mean()\n",
    "print(durchschnGeld)"
   ]
  },
  {
   "cell_type": "code",
   "execution_count": 24,
   "metadata": {},
   "outputs": [
    {
     "name": "stdout",
     "output_type": "stream",
     "text": [
      "        geldAnfang  ausgPause  geldEnde\n",
      "Tobias          15         -1        14\n",
      "Heike           12          0        12\n"
     ]
    }
   ],
   "source": [
    "#Hier sieht man die Macht von Pandas: sehr viel effizienter als ein for-loop!\n",
    "#(N.B. die neue Variable wurde auch automatisch mit angelegt)\n",
    "alleDaten16Nov['geldEnde'] = alleDaten16Nov['geldAnfang'] + alleDaten16Nov['ausgPause']\n",
    "print(alleDaten16Nov)"
   ]
  },
  {
   "cell_type": "code",
   "execution_count": 27,
   "metadata": {},
   "outputs": [
    {
     "name": "stdout",
     "output_type": "stream",
     "text": [
      "        geldAnfang  ausgPause  geldEnde Studienfach\n",
      "Tobias          15         -1        14          UZ\n",
      "Heike           12          0        12        Info\n"
     ]
    }
   ],
   "source": [
    "#Manuelle Ergänzung einer Variablen:\n",
    "alleDaten16Nov['Studienfach'] = ['UZ', 'Info']\n",
    "print(alleDaten16Nov)"
   ]
  },
  {
   "cell_type": "code",
   "execution_count": 28,
   "metadata": {},
   "outputs": [
    {
     "name": "stdout",
     "output_type": "stream",
     "text": [
      "15.0\n"
     ]
    }
   ],
   "source": [
    "#Boolesches Filtern mit Variablen:\n",
    "GeldUZ = alleDaten16Nov[alleDaten16Nov['Studienfach']=='UZ']\n",
    "print(GeldUZ['geldAnfang'].mean())"
   ]
  },
  {
   "cell_type": "markdown",
   "metadata": {},
   "source": [
    "## Einheit 4 Berechnung Segregationsindex"
   ]
  },
  {
   "cell_type": "markdown",
   "metadata": {},
   "source": [
    "<img src=\"segindex.png\">"
   ]
  },
  {
   "cell_type": "code",
   "execution_count": 29,
   "metadata": {},
   "outputs": [
    {
     "name": "stdout",
     "output_type": "stream",
     "text": [
      "   einwohner  sgb2empf stadtteil\n",
      "0        500       250   schäbig\n",
      "1        500       250    schick\n"
     ]
    }
   ],
   "source": [
    "beispielstadt = pd.DataFrame({'stadtteil': ['schäbig', 'schick'], 'einwohner': [500, 500], \n",
    "                              'sgb2empf': [250, 250]})\n",
    "print(beispielstadt)"
   ]
  },
  {
   "cell_type": "code",
   "execution_count": 30,
   "metadata": {},
   "outputs": [
    {
     "name": "stdout",
     "output_type": "stream",
     "text": [
      "   einwohner  sgb2empf stadtteil  sgb2_rel  nsgb2_rel\n",
      "0        500       250   schäbig       0.5        0.5\n",
      "1        500       250    schick       0.5        0.5\n"
     ]
    }
   ],
   "source": [
    "A = beispielstadt['sgb2empf'].sum() #Summe der SGB2-Empfänger über die Stadtteile\n",
    "B = beispielstadt['einwohner'].sum() #Summe der Einwohner\n",
    "\n",
    "beispielstadt['sgb2_rel'] = beispielstadt['sgb2empf']/A \n",
    "#Anteil an allen SGB2-Empf. der Stadt, die in diesem Stadtteil wohnen\n",
    "\n",
    "beispielstadt['nsgb2_rel'] = (beispielstadt['einwohner'] \n",
    "                                   - beispielstadt['sgb2empf'])/(B-A)\n",
    "#Anteil der nicht-SGB2-Empf. der Stadt, die in diesem Stadtteil wohnen\n",
    "\n",
    "print(beispielstadt)"
   ]
  },
  {
   "cell_type": "code",
   "execution_count": 31,
   "metadata": {},
   "outputs": [
    {
     "name": "stdout",
     "output_type": "stream",
     "text": [
      "   einwohner  sgb2empf stadtteil  sgb2_rel  nsgb2_rel  verh_sgb2_zu_ew\n",
      "0        500       250   schäbig       0.5        0.5              0.0\n",
      "1        500       250    schick       0.5        0.5              0.0\n",
      "Der Segregationsindex beträgt: 0.0\n"
     ]
    }
   ],
   "source": [
    "beispielstadt['verh_sgb2_zu_ew'] = abs(beispielstadt['sgb2_rel'] \n",
    "                                              - beispielstadt['nsgb2_rel'])\n",
    "print(beispielstadt)\n",
    "\n",
    "segIndex = 0.5 * beispielstadt['verh_sgb2_zu_ew'].sum()\n",
    "print(\"Der Segregationsindex beträgt: \" + str(segIndex))"
   ]
  },
  {
   "cell_type": "markdown",
   "metadata": {},
   "source": [
    "## Ergänzung: Laden externer Daten als Pandas Dataframe\n",
    "Natürlich wollen wir unsere Daten nicht manuell abtippen müssen. Pandas erlaubt es ganz simpel, Spreadsheet-Files (wie z.B. aus Excel oder ähnlichen Programmen) als DataFrame zu importieren. Am besten ein Software-unabhängiges File-Format wie .csv (für \"comma-separated values\" benutzen wie im folgenden Beispiel."
   ]
  },
  {
   "cell_type": "code",
   "execution_count": 37,
   "metadata": {},
   "outputs": [
    {
     "name": "stdout",
     "output_type": "stream",
     "text": [
      "                    Bezirk  Einwohner  Einwohner 0-18  Einwohner 18-65  \\\n",
      "0          Babelsberg Nord      11016            2294             7188   \n",
      "1           Babelsberg Süd      11377            1672             7770   \n",
      "2        Berliner Vorstadt       2415             406             1464   \n",
      "3                   Bornim       2747             483             1816   \n",
      "4                Bornstedt       9169            1972             5767   \n",
      "5   Brandenburger Vorstadt      11457            1817             7077   \n",
      "6                  Drewitz       7221            1273             4794   \n",
      "7                    Eiche       4538             799             3090   \n",
      "8                 Fahrland       3719             649             2601   \n",
      "9                     Golm       2627             421             1884   \n",
      "10          Groß Glienicke       4116             867             2487   \n",
      "11                   Grube        423              90              268   \n",
      "12              Innenstadt      19573            2458            12472   \n",
      "13           Jägervorstadt       2391             443             1625   \n",
      "14          Kirchsteigfeld       5069             934             3392   \n",
      "15         Klein Glienicke        550             139              355   \n",
      "16               Marquardt       1150             188              794   \n",
      "17        Nauener Vorstadt       4292             849             2663   \n",
      "18                 Nedlitz        178              33              103   \n",
      "19            Neu Fahrland       1467             260              934   \n",
      "20            Potsdam West       7122            1064             4245   \n",
      "21                  Sacrow        153              18              104   \n",
      "22                Satzkorn        443              53              329   \n",
      "23                Schlaatz       8999            1254             6718   \n",
      "24                   Stern      16165            2058             9986   \n",
      "25       Teltower Vorstadt       3859             429             2459   \n",
      "26      Templiner Vorstadt       1257             166              759   \n",
      "27             Uetz/Paaren        425              77              293   \n",
      "28             Waldstadt 1       5490             443             2824   \n",
      "29             Waldstadt 2       9580            1314             6490   \n",
      "\n",
      "    Einwohner 65+  \n",
      "0            1534  \n",
      "1            1935  \n",
      "2             545  \n",
      "3             448  \n",
      "4            1430  \n",
      "5            2563  \n",
      "6            1154  \n",
      "7             649  \n",
      "8             469  \n",
      "9             322  \n",
      "10            762  \n",
      "11             65  \n",
      "12           4643  \n",
      "13            323  \n",
      "14            743  \n",
      "15             56  \n",
      "16            168  \n",
      "17            780  \n",
      "18             42  \n",
      "19            273  \n",
      "20           1813  \n",
      "21             31  \n",
      "22             61  \n",
      "23           1027  \n",
      "24           4121  \n",
      "25            971  \n",
      "26            332  \n",
      "27             55  \n",
      "28           2223  \n",
      "29           1776  \n"
     ]
    }
   ],
   "source": [
    "import pandas as pd\n",
    "potsdam = pd.read_csv('PotsdamBezirke.csv') #Datei liegt im selben Verzeichnis wie das Skript.\n",
    "print(potsdam)"
   ]
  },
  {
   "cell_type": "markdown",
   "metadata": {},
   "source": [
    "Im folgenden berechne ich den Segregationsindex für die Über-65jährigen mit dem in der letzten Sitzung entwickelten, für diesen Zweck leicht angepassten Code. (Hinweis: die Daten auf Stadtteilebene für SGB-2-Empfänger liegen nicht vor, weil \"Open Data\" in Potsdam im Moment noch mehr lobenswerter Anspruch als Wirklichkeit ist)."
   ]
  },
  {
   "cell_type": "code",
   "execution_count": 43,
   "metadata": {},
   "outputs": [
    {
     "name": "stdout",
     "output_type": "stream",
     "text": [
      "                    Bezirk  Einwohner  Einwohner 0-18  Einwohner 18-65  \\\n",
      "0          Babelsberg Nord      11016            2294             7188   \n",
      "1           Babelsberg Süd      11377            1672             7770   \n",
      "2        Berliner Vorstadt       2415             406             1464   \n",
      "3                   Bornim       2747             483             1816   \n",
      "4                Bornstedt       9169            1972             5767   \n",
      "5   Brandenburger Vorstadt      11457            1817             7077   \n",
      "6                  Drewitz       7221            1273             4794   \n",
      "7                    Eiche       4538             799             3090   \n",
      "8                 Fahrland       3719             649             2601   \n",
      "9                     Golm       2627             421             1884   \n",
      "10          Groß Glienicke       4116             867             2487   \n",
      "11                   Grube        423              90              268   \n",
      "12              Innenstadt      19573            2458            12472   \n",
      "13           Jägervorstadt       2391             443             1625   \n",
      "14          Kirchsteigfeld       5069             934             3392   \n",
      "15         Klein Glienicke        550             139              355   \n",
      "16               Marquardt       1150             188              794   \n",
      "17        Nauener Vorstadt       4292             849             2663   \n",
      "18                 Nedlitz        178              33              103   \n",
      "19            Neu Fahrland       1467             260              934   \n",
      "20            Potsdam West       7122            1064             4245   \n",
      "21                  Sacrow        153              18              104   \n",
      "22                Satzkorn        443              53              329   \n",
      "23                Schlaatz       8999            1254             6718   \n",
      "24                   Stern      16165            2058             9986   \n",
      "25       Teltower Vorstadt       3859             429             2459   \n",
      "26      Templiner Vorstadt       1257             166              759   \n",
      "27             Uetz/Paaren        425              77              293   \n",
      "28             Waldstadt 1       5490             443             2824   \n",
      "29             Waldstadt 2       9580            1314             6490   \n",
      "\n",
      "    Einwohner 65+  ue65_rel   u65_rel  verh_ue65_zu_u65  \n",
      "0            1534  0.048988  0.074267          0.025280  \n",
      "1            1935  0.061793  0.073954          0.012161  \n",
      "2             545  0.017404  0.014647          0.002758  \n",
      "3             448  0.014307  0.018007          0.003700  \n",
      "4            1430  0.045666  0.060615          0.014949  \n",
      "5            2563  0.081848  0.069662          0.012187  \n",
      "6            1154  0.036853  0.047519          0.010667  \n",
      "7             649  0.020726  0.030460          0.009735  \n",
      "8             469  0.014977  0.025455          0.010478  \n",
      "9             322  0.010283  0.018054          0.007771  \n",
      "10            762  0.024334  0.026270          0.001936  \n",
      "11             65  0.002076  0.002804          0.000728  \n",
      "12           4643  0.148272  0.116938          0.031334  \n",
      "13            323  0.010315  0.016198          0.005883  \n",
      "14            743  0.023727  0.033883          0.010156  \n",
      "15             56  0.001788  0.003869          0.002081  \n",
      "16            168  0.005365  0.007691          0.002326  \n",
      "17            780  0.024909  0.027508          0.002599  \n",
      "18             42  0.001341  0.001065          0.000276  \n",
      "19            273  0.008718  0.009352          0.000634  \n",
      "20           1813  0.057897  0.041582          0.016315  \n",
      "21             31  0.000990  0.000956          0.000034  \n",
      "22             61  0.001948  0.002992          0.001044  \n",
      "23           1027  0.032797  0.062440          0.029643  \n",
      "24           4121  0.131602  0.094334          0.037268  \n",
      "25            971  0.031008  0.022620          0.008388  \n",
      "26            332  0.010602  0.007245          0.003357  \n",
      "27             55  0.001756  0.002898          0.001142  \n",
      "28           2223  0.070991  0.025589          0.045402  \n",
      "29           1776  0.056716  0.061124          0.004409  \n",
      "Der altersbezogene Segregationsindex beträgt: 0.15731968493729973\n"
     ]
    }
   ],
   "source": [
    "A = potsdam['Einwohner 65+'].sum() #Summe der Ü65-EW über die Stadtteile\n",
    "B = potsdam['Einwohner'].sum() #Summe der Einwohner\n",
    "\n",
    "potsdam['ue65_rel'] = potsdam['Einwohner 65+']/A \n",
    "#Anteil an allen Ü65-EW der Stadt, die in diesem Stadtteil wohnen\n",
    "\n",
    "potsdam['u65_rel'] = (potsdam['Einwohner'] \n",
    "                                   - potsdam['Einwohner 65+'])/(B-A)\n",
    "\n",
    "potsdam['verh_ue65_zu_u65'] = abs(potsdam['ue65_rel'] \n",
    "                                              - potsdam['u65_rel'])\n",
    "print(potsdam)\n",
    "\n",
    "segIndex = 0.5 * potsdam['verh_ue65_zu_u65'].sum()\n",
    "print(\"Der altersbezogene Segregationsindex beträgt: \" + str(segIndex))"
   ]
  },
  {
   "cell_type": "code",
   "execution_count": 44,
   "metadata": {
    "collapsed": true
   },
   "outputs": [],
   "source": [
    "#Jetzt wollen wir noch die erweiterte Tabelle wieder abspeichern.\n",
    "potsdam.to_csv('PotsdamBezirkeErweitert.csv')"
   ]
  },
  {
   "cell_type": "markdown",
   "metadata": {},
   "source": [
    "# Diskussion\n",
    "Sind 2 und 2 wirklich immer 4? Diese spannende Frage ist nicht so trivial, wie sie scheint, und wird von Muller et al. (2010) ausführlich erörtert.\n",
    "\n",
    "# Literaturangaben\n",
    "Muller, J.-M., Brisebarre, N., de Dinechin, F., Jeannerod, C.-P., Lefèvre, V., Melquiond, G., Revol, N., Stehlé, D., Torres, S. (2010). Handbook of floating-point arithmetic. Heidelberg: Springer Nature."
   ]
  }
 ],
 "metadata": {
  "kernelspec": {
   "display_name": "Python 3",
   "language": "python",
   "name": "python3"
  },
  "language_info": {
   "codemirror_mode": {
    "name": "ipython",
    "version": 3
   },
   "file_extension": ".py",
   "mimetype": "text/x-python",
   "name": "python",
   "nbconvert_exporter": "python",
   "pygments_lexer": "ipython3",
   "version": "3.6.1"
  }
 },
 "nbformat": 4,
 "nbformat_minor": 2
}
