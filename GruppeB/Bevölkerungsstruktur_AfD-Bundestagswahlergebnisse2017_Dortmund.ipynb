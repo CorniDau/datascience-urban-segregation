{
 "cells": [
  {
   "cell_type": "markdown",
   "metadata": {},
   "source": [
    "# (Vorläufiger) Projekttitel:\n",
    "\n",
    "Zusammenhang zwischen ausgesuchten Kriterien der Bevölkerungsstruktur und den Wahlergebnissen der AfD bei den Bundestagswahlen 2017 in den Stadtbezirken von Dortmund\n",
    "\n",
    "### Projektbeteiligte:\n",
    "\n",
    "Mohamad Aleinawi, Carmen Krause, Laura Rothfritz, Pascal Schwerk, Elise Werner"
   ]
  },
  {
   "cell_type": "markdown",
   "metadata": {},
   "source": [
    "# Inhalt\n",
    "\n",
    "Abkürzungzverzeichnis  \n",
    "Abbildungsverzeichnis  \n",
    "Tabellenverzeichnis  \n",
    "\n",
    "Einleitung  \n",
    "1. Forschungsstand  \n",
    "2. Forschungsmethode  \n",
    "3. Ergebnis  \n",
    "4. Analyse  \n",
    "\n",
    "Fazit und Ausblick  \n",
    "\n",
    "Literaturverzeichnis   \n",
    "Anhänge"
   ]
  },
  {
   "cell_type": "markdown",
   "metadata": {},
   "source": [
    "# Abkürzungsverzeichnis\n",
    "\n",
    "AfD - Alternative für Deutschland (Politische Partei)  \n",
    "WZB - Wissenschaftszentrum Berlin für Sozialforschung"
   ]
  },
  {
   "cell_type": "markdown",
   "metadata": {},
   "source": [
    "# Einleitung\n",
    "\n",
    "### Forschungsvorhaben/ Fragestellung:\n",
    "Im Rahmen der vorliegenden Projektarbeit soll die Frage untersucht werden, ob sich ein signifikanter Zusammenhang zwischen ausgesuchten Kriterien der Bevölkerungsstruktur (z. B. Staatsangehörigkeit, Geschlecht, Altersgruppen, Einkommensverhältnisse) und den Wahlergebnissen der AfD bei den Bundestagswahlen 2017 in den Stadtbezirken von Dortmund feststellen lässt.\n",
    "\n",
    "### Begründung des Forschungsvorhabens/ Motivation:\n",
    "a) Laut WZB-Studie gehört Dortmund zu den 10 Städten (Platz 6) mit dem höchsten Segregationsindex.  \n",
    "b) Die AfD Dortmund hat ihrerseits aktuell mehrere Anfragen zu aus der WZB-Studie ableitbaren Aussagen gestellt: https://www.afd-do-fraktion.de/item/441-aktuelle-anfragen-und-antraege-der-afd-fraktion-fuer-eine-sichere-heimat.\n",
    "\n",
    "### Begriffsdefinitionen/ Erläuterungen:\n",
    "AfD - Hintergründe zur Partei  \n",
    "Bundestagswahl 2017 - Hintergründe zum Wahlverfahren (Erststimmen, Zweitstimmen etc.)  \n",
    "Dortmund - Hintergründe zur Einteilung der Stadtbezirke  \n",
    "Kriterien der Bevölkerungsstruktur - Hintergründe und Erläuterungen\n",
    "\n",
    "### Datenlage:\n",
    "Das Informationsportal der Stadt Dortmund liefert sehr gut aufbereitete und vor allem einheitliche (Stadtbezirke = Wahlbezirke) Daten für die jeweiligen Stadtbezirke im Jahr 2017: https://opendata.dortmund.de/Informationsportal/."
   ]
  },
  {
   "cell_type": "markdown",
   "metadata": {},
   "source": [
    "# Literaturverzeichnis\n",
    "\n",
    "Helbig, Marcel; Jähnen, Stefanie: Wie brüchig ist die soziale Architektur unserer Städte? : Trends und Analysen der Segregation in 74 deutschen Städten (= Discussion Paper P 2018–001). Berlin : WZB, Wissenschaftszentrum Berlin für Sozialforschung, 2018"
   ]
  }
 ],
 "metadata": {
  "kernelspec": {
   "display_name": "Python 3",
   "language": "python",
   "name": "python3"
  },
  "language_info": {
   "codemirror_mode": {
    "name": "ipython",
    "version": 3
   },
   "file_extension": ".py",
   "mimetype": "text/x-python",
   "name": "python",
   "nbconvert_exporter": "python",
   "pygments_lexer": "ipython3",
   "version": "3.7.0"
  }
 },
 "nbformat": 4,
 "nbformat_minor": 2
}
